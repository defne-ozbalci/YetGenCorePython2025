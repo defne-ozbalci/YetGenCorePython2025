{
 "cells": [
  {
   "cell_type": "markdown",
   "metadata": {
    "id": "tn8GZg8pTGFf"
   },
   "source": [
    "### Soru 1 \n",
    "Yazılımcıların bir dili öğrenmeye başladığında ilk yapacakları şey ekrana \"Hello World\" yazdırmaktır. Python'da da aynı şeyi yapalım.Bir yazılımcı aşağıdaki kodu yazarken hata yapıyor. Bunu düzelterek çalışan bir kod yazalım.\n"
   ]
  },
  {
   "cell_type": "code",
   "execution_count": 1,
   "metadata": {
    "id": "bt_InlLMTGGF"
   },
   "outputs": [
    {
     "name": "stdout",
     "output_type": "stream",
     "text": [
      "Hello World\n"
     ]
    }
   ],
   "source": [
    "print(\"Hello World\")"
   ]
  },
  {
   "cell_type": "markdown",
   "metadata": {
    "id": "t9Rh_pt2TGGL"
   },
   "source": [
    "### Soru 2\n",
    "İki YetGen'li zirvede karşılaşıyor. Zirvede birbirleriyle Python standında konuşurken YetGen Jump Python renginin ne olduğunu konuşurken bir YetGen lideri **logo** değişkenine atayıp ekrana bastırmalarını istiyor. Onlara bu noktada yardımcı olur musun?"
   ]
  },
  {
   "cell_type": "code",
   "execution_count": 7,
   "metadata": {
    "id": "RI1LXAWhTGGO"
   },
   "outputs": [
    {
     "name": "stdout",
     "output_type": "stream",
     "text": [
      "https://miro.medium.com/v2/resize:fit:910/1*jbz6ImV3RT_vNzSvSHW_Fg.png\n"
     ]
    }
   ],
   "source": [
    "# 2.Sorunun çözümünü buraya yazabilirsin.\n",
    "logo = \"https://miro.medium.com/v2/resize:fit:910/1*jbz6ImV3RT_vNzSvSHW_Fg.png\"\n",
    "print(logo)"
   ]
  },
  {
   "cell_type": "markdown",
   "metadata": {
    "id": "g0lXs2PTTGGR"
   },
   "source": [
    "### Soru 3\n",
    "Dairenin alanını hesaplayan bir Python kodu yazınız. pi sayısını 3.14 olarak alınız ve yarıçapını kullanıcıdan alınız. Sonucu ekrana bastırınız."
   ]
  },
  {
   "cell_type": "code",
   "execution_count": null,
   "metadata": {
    "id": "BGpgBhplTGGS"
   },
   "outputs": [
    {
     "name": "stdout",
     "output_type": "stream",
     "text": [
      "78.5\n"
     ]
    }
   ],
   "source": [
    "# 3.Sorunun çözümünü buraya yazabilirsin.\n",
    "\n",
    "pi = 3.14\n",
    "yaricap = int(input(\"dairenin yaricapı : \"))\n",
    "print(yaricap ** 2 * pi)"
   ]
  },
  {
   "cell_type": "markdown",
   "metadata": {
    "id": "cPMMpdJzTGGV"
   },
   "source": [
    "### Soru 4\n",
    "x ve y adında iki liste oluşturunuz. Bu listeleri birbiryle yer değiştirerek yazdırınız.\n",
    "\n",
    "```python\n",
    "x = [1,2,3,4,5]\n",
    "y = [5,4,3,2,1]\n",
    "``` \n",
    "\n",
    "```python\t\n",
    "Output:\n",
    "x = [5, 4, 3, 2, 1]\n",
    "y = [1, 2, 3, 4, 5]\n",
    "```"
   ]
  },
  {
   "cell_type": "markdown",
   "metadata": {
    "id": "vhKsciz1TGGY"
   },
   "source": [
    "### Soru 5\n",
    "Aşağıda verilen kod satırının sonuncunu 1 olacak şekilde düzenleyiniz."
   ]
  },
  {
   "cell_type": "code",
   "execution_count": 5,
   "metadata": {
    "id": "aAgU4SaSTGGb"
   },
   "outputs": [
    {
     "name": "stdout",
     "output_type": "stream",
     "text": [
      "(5 - 3) // 2 = 1\n"
     ]
    }
   ],
   "source": [
    "5 - 3 // 2\n",
    "\n",
    "a = 5\n",
    "b = 3\n",
    "c = 2\n",
    "\n",
    "print(f\"({a} - {b}) // {c} = {(a - b) // c}\")\n"
   ]
  },
  {
   "cell_type": "markdown",
   "metadata": {
    "id": "kRHlU52YTGGe"
   },
   "source": [
    "### Soru 6\n",
    "Aşağıdaki kod satırının sonuncusunu 0 olacak şekilde düzenleyiniz."
   ]
  },
  {
   "cell_type": "code",
   "execution_count": null,
   "metadata": {
    "id": "SQfEo_XTTGGg"
   },
   "outputs": [],
   "source": [
    "8 - 3 * 2 - 1 + 1"
   ]
  },
  {
   "cell_type": "markdown",
   "metadata": {
    "id": "tpixAZXyTGGi"
   },
   "source": [
    "### Soru 7\n",
    "YetGen liderlerinden Berkcan, Emirhan ve Eslem, Ramazan Bayramı'nda topladıkları şekerlerini bir araya getirmeyi ve kendi aralarında eşit olarak paylaşmayı kabul ettiler.\n",
    "Eşit paylaşım yapıldıktan sonra kalan şekerler parçalanacak. Örneğin, eğer toplamda 91 şekerleri varsa , her biri 30 tane alıp kalan 1 tane şekeri parçalayacaklar.\n",
    "Kaç tane şekeri parçalayacaklarını hesaplayan bir Python kodu yazınız."
   ]
  },
  {
   "cell_type": "code",
   "execution_count": 11,
   "metadata": {
    "id": "O75NG8MaTGGk"
   },
   "outputs": [
    {
     "name": "stdout",
     "output_type": "stream",
     "text": [
      "1\n"
     ]
    }
   ],
   "source": [
    "# 7.Sorunun çözümünü buraya yazabilirsin.\n",
    "total = 91\n",
    "kisi_sayisi = 3\n",
    "dusen_pay = 30\n",
    "\n",
    "print(total - dusen_pay * kisi_sayisi)"
   ]
  }
 ],
 "metadata": {
  "colab": {
   "provenance": []
  },
  "kernelspec": {
   "display_name": "Python 3",
   "language": "python",
   "name": "python3"
  },
  "language_info": {
   "codemirror_mode": {
    "name": "ipython",
    "version": 3
   },
   "file_extension": ".py",
   "mimetype": "text/x-python",
   "name": "python",
   "nbconvert_exporter": "python",
   "pygments_lexer": "ipython3",
   "version": "3.13.2"
  },
  "orig_nbformat": 4
 },
 "nbformat": 4,
 "nbformat_minor": 0
}
