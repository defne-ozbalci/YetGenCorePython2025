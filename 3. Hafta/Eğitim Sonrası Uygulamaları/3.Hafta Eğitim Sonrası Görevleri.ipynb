{
 "cells": [
  {
   "cell_type": "markdown",
   "metadata": {
    "id": "iynMkzK2ozgo"
   },
   "source": [
    "# Problem 1\n",
    "Kullanıcıdan bir sayı alınız. Sayı 0'dan büyükse pozitif , 0'dan küçükse negatif sıfıra eşitse sıfır yazdırınız."
   ]
  },
  {
   "cell_type": "code",
   "execution_count": 4,
   "metadata": {
    "id": "Y5eMYyiOozgw"
   },
   "outputs": [
    {
     "name": "stdout",
     "output_type": "stream",
     "text": [
      "Negatif\n"
     ]
    }
   ],
   "source": [
    "# 1.Problemin Çözümünü Buraya Yazınız\n",
    "sayi=float(input(\"Sayınızı giriniz: \"))\n",
    "if(sayi>0):\n",
    "    print(\"Pozitif\")\n",
    "elif(sayi<0):\n",
    "    print(\"Negatif\")\n",
    "elif(sayi==0):\n",
    "    print(\"Sıfır\")"
   ]
  },
  {
   "cell_type": "markdown",
   "metadata": {
    "id": "gUrFd7pgozgz"
   },
   "source": [
    " # Problem 2\n",
    "Kullanıcıdan aldığınız bir sayının mükemmel olup olmadığını bulmaya çalışın.\n",
    "Bir sayının kendi hariç bölenlerinin toplamı kendine eşitse bu sayıya \"mükemmel sayı\" denir. Örnek olarak, 6 mükemmel bir sayıdır. (1 + 2 + 3 = 6)\n"
   ]
  },
  {
   "cell_type": "code",
   "execution_count": null,
   "metadata": {
    "id": "Oc8lAzLaozg0"
   },
   "outputs": [],
   "source": [
    "# 2.Problemin Çözümünü Buraya Yazınız\n",
    "sayi=int(input(\"Sayınızı giriniz: \"))\n",
    "if(sum())"
   ]
  },
  {
   "cell_type": "markdown",
   "metadata": {
    "id": "wU080UMcozg1"
   },
   "source": [
    " # Problem 3\n",
    "Kullanıcıdan aldığınız bir sayının \"Armstrong\" sayısı olup olmadığını bulmaya çalışın.\n",
    "Örnek olarak, Bir sayı eğer 4 basamaklı ise ve oluşturan rakamlardan herbirinin 4. kuvvetinin toplamı( 3 basamaklı sayılar için 3.kuvveti ) o sayıya eşitse bu sayıya \"Armstrong\" sayısı denir.\n",
    "\n",
    "Örnek olarak : 1634 = 1^4 + 6^4 + 3^4 + 4^4"
   ]
  },
  {
   "cell_type": "code",
   "execution_count": null,
   "metadata": {
    "id": "NF529iKaozg3"
   },
   "outputs": [
    {
     "ename": "NameError",
     "evalue": "name 'index' is not defined",
     "output_type": "error",
     "traceback": [
      "\u001b[1;31m---------------------------------------------------------------------------\u001b[0m",
      "\u001b[1;31mNameError\u001b[0m                                 Traceback (most recent call last)",
      "Cell \u001b[1;32mIn[5], line 3\u001b[0m\n\u001b[0;32m      1\u001b[0m \u001b[38;5;66;03m# 3.Problemin Çözümünü Buraya Yazınız\u001b[39;00m\n\u001b[0;32m      2\u001b[0m sayi\u001b[38;5;241m=\u001b[39m\u001b[38;5;28mint\u001b[39m(\u001b[38;5;28minput\u001b[39m(\u001b[38;5;124m\"\u001b[39m\u001b[38;5;124mSayınızı giriniz: \u001b[39m\u001b[38;5;124m\"\u001b[39m))\n\u001b[1;32m----> 3\u001b[0m \u001b[38;5;28;01mif\u001b[39;00m(\u001b[38;5;28msum\u001b[39m(\u001b[43mindex\u001b[49m(\u001b[38;5;241m1\u001b[39m,\u001b[38;5;241m2\u001b[39m,\u001b[38;5;241m3\u001b[39m,\u001b[38;5;241m4\u001b[39m)\u001b[38;5;241m*\u001b[39m\u001b[38;5;241m4\u001b[39m)\u001b[38;5;241m==\u001b[39msayi):\n\u001b[0;32m      4\u001b[0m     \u001b[38;5;28mprint\u001b[39m(\u001b[38;5;124mf\u001b[39m\u001b[38;5;124m\"\u001b[39m\u001b[38;5;132;01m{\u001b[39;00msayi\u001b[38;5;132;01m}\u001b[39;00m\u001b[38;5;124m sayısı Armstrong sayısıdır\u001b[39m\u001b[38;5;124m\"\u001b[39m)\n\u001b[0;32m      5\u001b[0m \u001b[38;5;28;01melse\u001b[39;00m:\n",
      "\u001b[1;31mNameError\u001b[0m: name 'index' is not defined"
     ]
    }
   ],
   "source": [
    "# 3.Problemin Çözümünü Buraya Yazınız\n",
    "sayi=int(input(\"Sayınızı giriniz: \"))\n",
    "if(sum(index(1,2,3,4)*4)==sayi):\n",
    "    print(f\"{sayi} sayısı Armstrong sayısıdır\")\n",
    "else:\n",
    "    print(f\"{sayi} sayısı armstrong sayısı değildir\")"
   ]
  },
  {
   "cell_type": "markdown",
   "metadata": {
    "id": "4hSmU3Yoozg4"
   },
   "source": [
    "# Problem 4\n",
    "YetGen Core Python mezunu bir öğretmenimiz öğrencilerine 1'den 10'a kadar sayılarla çarpım tablosunu öğretirken Python'dan destek almak istiyor. Bu konuda öğretmenimize yardımcı olmak ister misin?\n",
    "\n",
    "İpucu: İç içe 2 tane for döngüsü kullanın. \n",
    "\n",
    "Aynı zamanda sayıları range() fonksiyonunu kullanarak elde edin."
   ]
  },
  {
   "cell_type": "code",
   "execution_count": null,
   "metadata": {
    "id": "WsDvmcXgozg5"
   },
   "outputs": [],
   "source": [
    "# 4.Problemin Çözümünü Buraya Yazınız"
   ]
  },
  {
   "cell_type": "markdown",
   "metadata": {
    "id": "jJpAhNPtozg7"
   },
   "source": [
    "# Problem 5\n",
    "Markete giren bir YetGen'li sıra beklememek için hızlı kasaya gider. Hızlı kasanın çalışma mantığı şu şekildedir:\n",
    "- Kullanıcının aldığı her ürünün fiyatını tek tek girmesi gerekir.\n",
    "- Kullanıcı kasadan çıkmak isterse q tuşuna basmalıdır.\n",
    "- Kasa girilen fiyatları son fiyat isimli değişkene ekler.\n",
    "- Değişkeni ekrana bastırır.\n",
    "\n",
    "İpucu: while döngüsünü sonsuz koşulla başlatın ve kullanıcı q'ya basarsa döngüyü break ile sonlandırın."
   ]
  },
  {
   "cell_type": "code",
   "execution_count": null,
   "metadata": {
    "id": "Tr4QbmESozg9"
   },
   "outputs": [],
   "source": [
    "# 5.Problemin Çözümünü Buraya Yazınız"
   ]
  },
  {
   "cell_type": "markdown",
   "metadata": {
    "id": "lqJyFt_Eozg-"
   },
   "source": [
    "# Problem 6\n",
    "1'den 100'e kadar olan sayılardan sadece 3'e bölünen sayıları ekrana bastırın. Bu işlemi continue ile yapmaya çalışın."
   ]
  },
  {
   "cell_type": "code",
   "execution_count": null,
   "metadata": {
    "id": "0ZVgZqAQozg_"
   },
   "outputs": [],
   "source": [
    "# 6.Problemin Çözümünü Buraya Yazınız"
   ]
  },
  {
   "cell_type": "markdown",
   "metadata": {
    "id": "eA2r49EjozhA"
   },
   "source": [
    "# Problem 7\n",
    "Bir YetGen Core Python mezunu MEF Üniversitesi'nde Bilgisayar Bilimleri Doktora programının mülakatına girmeye hak kazanıyor. Mülakata hazırlanırken internetten soru araştırıyor. Karşısına çıkan ünlü FizzBuzz sorusuna benzer YetGen sorusunda kendisini yeterince hazır hissetmiyor. Bu soruyu çözmesine destek olmak ister misin?\n",
    "\n",
    "Soru aşağıdaki gibidir:\n",
    "\n",
    "1’den 100’e kadar sayıları yazdırıyoruz. Ancak eğer sayı 3’e bölünüyor ise Yet, sayı 5’e bölünüyorsa Gen, hem 3’e hem 5’e bölünüyorsa YetGen yazdırıyoruz."
   ]
  },
  {
   "cell_type": "code",
   "execution_count": null,
   "metadata": {
    "id": "Q3H7p6vnozhB"
   },
   "outputs": [],
   "source": [
    "# 7.Problemin Çözümünü Buraya Yazınız"
   ]
  }
 ],
 "metadata": {
  "colab": {
   "provenance": []
  },
  "kernelspec": {
   "display_name": "Python 3",
   "language": "python",
   "name": "python3"
  },
  "language_info": {
   "codemirror_mode": {
    "name": "ipython",
    "version": 3
   },
   "file_extension": ".py",
   "mimetype": "text/x-python",
   "name": "python",
   "nbconvert_exporter": "python",
   "pygments_lexer": "ipython3",
   "version": "3.13.2"
  },
  "orig_nbformat": 4
 },
 "nbformat": 4,
 "nbformat_minor": 0
}
