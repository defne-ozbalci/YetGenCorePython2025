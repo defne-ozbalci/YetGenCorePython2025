{
 "cells": [
  {
   "cell_type": "markdown",
   "metadata": {
    "id": "unoTPlV_tJOm"
   },
   "source": [
    "# Problem 1 \n",
    "Bir sayının çift olup olmadığını sorgulayan bir fonksiyon yazın. Bu fonksiyon, eğer sayı çift ise bu değeri dönsün. Ancak sayı tek sayı ise fonksiyon raise ile ValueError hatası oluştursun. Daha sonra, içinde çift ve tek sayılar bulunduran bir liste tanımlayın ve liste üzerinde gezinerek ekrana sadece çift sayıları bastırın."
   ]
  },
  {
   "cell_type": "code",
   "execution_count": 29,
   "metadata": {
    "id": "7oyBSeXptJOp"
   },
   "outputs": [
    {
     "name": "stdout",
     "output_type": "stream",
     "text": [
      "2\n",
      "12\n",
      "36\n",
      "52\n",
      "88\n",
      "96\n"
     ]
    }
   ],
   "source": [
    "# 1.Problemin Çözümünü Buraya Yazınız\n",
    "\n",
    "def even_or_odd(sayi):\n",
    "    if sayi%2==0:\n",
    "        return sayi\n",
    "    else:\n",
    "        raise ValueError\n",
    "\n",
    "sayilar=[2,5,12,23,36,47,52,61,75,88,96]\n",
    "\n",
    "for sayi in sayilar:\n",
    "    try:\n",
    "        print(even_or_odd(sayi))\n",
    "    except ValueError:\n",
    "        continue\n",
    "\n"
   ]
  },
  {
   "cell_type": "markdown",
   "metadata": {
    "id": "CdfzJ2A9tJOq"
   },
   "source": [
    "# Problem 2\n",
    "\n",
    "2 YetGen lideri ders sırasında canları sıkılınca oyun oynamak isterler. Ancak hangi oyunu oynayacaklarına karar veremezler ve son olarak kendi oyunlarını yazmaya karar verirler.\n",
    "Liderlerimizin kodlamak istediği oyun kuralları şöyledir:\n",
    "- Oyunda random olarak 0 ile 100 arasında bir sayı tutulur.\n",
    "- Kullanıcıdan bilgisayarın tuttuğu sayıyı tahmin etmesi için bir sayı girmesini istenir.\n",
    "- Eğer kullanıcının girdiği sayı bulunması gereken sayıdan küçükse  tahmininizi yükseltin, büyükse tahmininizi düşürün şeklinde bir çıktı verilir.\n",
    "- Oyunun gerçeğe yakın olması için bilgisayarın çalışmasını simgelemek için 1 saniye bekleme süresi tanınır.\n",
    "- Kullanıcı 5 hakkı vardır. 5 hakkı da kullanıp sayıyı bulamazsa oyunu kaybeder."
   ]
  },
  {
   "cell_type": "code",
   "execution_count": 8,
   "metadata": {
    "id": "A1VEETgCtJOr"
   },
   "outputs": [
    {
     "name": "stdout",
     "output_type": "stream",
     "text": [
      "-----------Sayı Tahmin Oyunu----------- \n",
      " 1 ile 100 arası bir sayıyı tahmin edin! \n",
      "\n",
      "analiz ediliyor.....\n",
      "Tahmininizi yükseltin\n",
      "analiz ediliyor.....\n",
      "Tahmininizi düşürün\n",
      "analiz ediliyor.....\n",
      "Tahmininizi düşürün\n",
      "analiz ediliyor.....\n",
      "Tahmininizi düşürün\n",
      "analiz ediliyor.....\n",
      "Tahmininizi düşürün\n",
      "Tahmin haklarınızın tamamını kulladınız!\n",
      "Doğru sayı:  30\n"
     ]
    }
   ],
   "source": [
    "# 2.Problemin Çözümünü Buraya Yazınız\n",
    "\n",
    "import random\n",
    "import time\n",
    "\n",
    "print(\"-----------Sayı Tahmin Oyunu----------- \\n 1 ile 100 arası bir sayıyı tahmin edin! \\n\")\n",
    "random_number= random.randint(1,100)\n",
    "tahmin_hakki=5\n",
    "\n",
    "while tahmin_hakki > 0 :\n",
    "    tahmin=int(input(\"Tahmininizi giriniz: \"))\n",
    "    if tahmin < random_number:\n",
    "        print('analiz ediliyor.....')\n",
    "        time.sleep(1)\n",
    "        print(\"Tahmininizi yükseltin\")\n",
    "        tahmin_hakki-=1\n",
    "    elif tahmin > random_number: \n",
    "        print('analiz ediliyor.....')\n",
    "        time.sleep(1)\n",
    "        print(\"Tahmininizi düşürün\")\n",
    "        tahmin_hakki-=1\n",
    "    else:\n",
    "        print('analiz ediliyor.....')\n",
    "        time.sleep(1)\n",
    "        print(\"Doğru bildiniz!\")\n",
    "        break\n",
    "\n",
    "\n",
    "    if tahmin_hakki==0:\n",
    "        print(\"Tahmin haklarınızın tamamını kulladınız!\")\n",
    "        print(\"Doğru sayı: \", random_number)\n",
    "        break\n",
    "\n",
    "\n"
   ]
  }
 ],
 "metadata": {
  "colab": {
   "provenance": []
  },
  "kernelspec": {
   "display_name": "Python 3",
   "language": "python",
   "name": "python3"
  },
  "language_info": {
   "codemirror_mode": {
    "name": "ipython",
    "version": 3
   },
   "file_extension": ".py",
   "mimetype": "text/x-python",
   "name": "python",
   "nbconvert_exporter": "python",
   "pygments_lexer": "ipython3",
   "version": "3.13.2"
  },
  "orig_nbformat": 4,
  "vscode": {
   "interpreter": {
    "hash": "5026d2d6e7aaaaba093def813beadff083d8733e4a511af01735cbabd156995d"
   }
  }
 },
 "nbformat": 4,
 "nbformat_minor": 0
}
