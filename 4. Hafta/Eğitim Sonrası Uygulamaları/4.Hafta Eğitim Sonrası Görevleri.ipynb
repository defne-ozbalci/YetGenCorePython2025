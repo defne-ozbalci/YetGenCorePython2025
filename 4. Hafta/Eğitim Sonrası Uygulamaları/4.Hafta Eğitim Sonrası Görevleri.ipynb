{
 "cells": [
  {
   "cell_type": "markdown",
   "metadata": {},
   "source": [
    "# Problem 1\n",
    "`ogrenciler` adında bir sözlük oluşturunuz. Kullanıcıdan döngü yardımıyla 3 öğrenci için veri girmesini isteyerek öğrencilerin sırasıyla okul numarası, isim, soy isim, telefon numarası ve doğum tarihi bilgilerini alınız. Aldığınız öğrenci bilgilerini yine aynı döngü yardımıyla `ogrenciler` adındaki sözlükte saklayınız. Daha sonra öğrenci bilgilerinin bulunduğu sözlük yapısını ekrana bastırınız.\n",
    "\n"
   ]
  },
  {
   "cell_type": "code",
   "execution_count": null,
   "metadata": {},
   "outputs": [],
   "source": [
    "# 1.Problemin Çözümünü Buraya Yazınız\n",
    "ogrenciler={}\n",
    "ogrenciler[]=input(\"Bilgilerini öğrenmek istediğiniz öğrencinin adını giriniz: \")\n",
    "soyad="
   ]
  },
  {
   "cell_type": "markdown",
   "metadata": {},
   "source": []
  },
  {
   "cell_type": "markdown",
   "metadata": {},
   "source": [
    "# Problem 2\n",
    "\n",
    "### a - Biraz ısınarak başlayalım!\n",
    "\n",
    "```\n",
    "numbers = [5,10,10,15,15,15,20,20,20,20]\n",
    "```\n",
    "\n",
    "Yukarıda `numbers` adında 10 elemanlı bir liste verilmiştir. Bu listenin her elemanını kontrol eden ve tekrar eden elemanları bir kez olacak şekilde başka bir listeye kopyalayan bir program yazınız. Son olarak oluşturduğunuz listeyi ekrana bastırınız.\n",
    "\n",
    "\n",
    "\n",
    "\n",
    "```\n",
    ">Output\n",
    "[5, 10, 15, 20]\n",
    "```\n"
   ]
  },
  {
   "cell_type": "code",
   "execution_count": null,
   "metadata": {},
   "outputs": [],
   "source": [
    "# 2.Problemin a Şıkkının Çözümünü Buraya Yazınız\n",
    "numbers=[5,10,10,15,15,15,20,20,20,20]\n",
    "numbers_final=[]\n",
    "\n"
   ]
  },
  {
   "cell_type": "markdown",
   "metadata": {},
   "source": [
    "### 🌶️ b) Hadi işi biraz daha zorlaştıralım! \n",
    "\n",
    "\n",
    "Şimdiyse senden `numbers` isimli listedeki tekrar eden elemanları `repeatNumbers` adındaki listeye; tekrar etmeyen elemanları `uniqueNumbers`adındaki listeye kopyalayan yazmanı ve listeleri ekrana bastırmanı bekliyoruz\n",
    "\n",
    "```\n",
    ">Output\n",
    "Tekrar Eden Elemanlar: [10, 10, 15, 15, 15, 20, 20, 20, 20]\n",
    "Tekrar Etmeyen Elemanlar: [5]\n",
    "```"
   ]
  },
  {
   "cell_type": "code",
   "execution_count": null,
   "metadata": {},
   "outputs": [],
   "source": [
    "# 2.Problemin b Şıkkının Çözümünü Buraya Yazınız"
   ]
  },
  {
   "cell_type": "markdown",
   "metadata": {},
   "source": [
    "# Problem 3\n",
    "sn1 = {1,2,3,4,5}\n",
    "\n",
    "sn2 = {4,5,6,7,8}\n",
    "\n",
    " Verilen 2 adet küme için kesişimlerini, farklarını ve birleşimlerini bulunuz. "
   ]
  },
  {
   "cell_type": "code",
   "execution_count": 8,
   "metadata": {},
   "outputs": [
    {
     "name": "stdout",
     "output_type": "stream",
     "text": [
      "{4, 5}\n",
      "{4, 5}\n",
      "{1, 2, 3}\n",
      "{8, 6, 7}\n",
      "{1, 2, 3, 4, 5, 6, 7, 8}\n",
      "{1, 2, 3, 4, 5, 6, 7, 8}\n"
     ]
    }
   ],
   "source": [
    "# 3.Problemin Çözümünü Buraya Yazınız\n",
    "\n",
    "sn1={1,2,3,4,5}\n",
    "sn2={4,5,6,7,8}\n",
    "print(sn1.intersection(sn2))\n",
    "print(sn2.intersection(sn1))\n",
    "print(sn1.difference(sn2))\n",
    "print(sn2.difference(sn1))\n",
    "print(sn1.union(sn2))\n",
    "print(sn2.union(sn1))"
   ]
  },
  {
   "cell_type": "markdown",
   "metadata": {},
   "source": [
    "# Problem 4\n",
    "\n",
    "Buradaki işlemlerimizin tamamı stringler içindir. Aşağıda verilecek olan metodlar için kendinizin örnek yaratması gerekmektedir. \n",
    "\n",
    "Örneğin `upper` için `string` değişkeni oluştururken` k = \"BAC\"` şeklinde oluşturmayınız. Bunun yerine k değişkenini `k = \"bac`\" şeklinde oluşturmanız `upper` metodundaki değişimi görebilmeniz için daha iyi olacaktır.\n",
    "\n",
    "Bütün metodlardaki değişimin gözle görülür şekilde değişimi beklenmektedir.\n",
    "\n",
    "\n",
    "1- capitalize(), lower(), upper(), swapcase(), title(), replace()\n",
    "\n",
    "2- endswith(), startswith(), find(), index(), count()\n",
    "\n",
    "3- split(), strip(), join(), islower(), isalpha(), isdigit()\n",
    "\n",
    "\n",
    "Yukarıdaki `string` metodlarındaki değişimleri görebildiğimiz bir program yazınız.\n"
   ]
  },
  {
   "cell_type": "code",
   "execution_count": null,
   "metadata": {},
   "outputs": [
    {
     "name": "stdout",
     "output_type": "stream",
     "text": [
      "Yeni bir yetgen macerası 10 şubatta bizleri bekliyor!          \n",
      "                2025 yılına yetgen'le birlikte yeniliklerle dolu bir giriş yapıldı!\n",
      "YENI BIR YETGEN MACERASI 10 ŞUBATTA BIZLERI BEKLIYOR!          \n",
      "                2025 YILINA yETgEN'LE BIRLIKTE YENILIKLERLE DOLU BIR GIRIŞ YAPILDI!\n",
      "Yeni Bir Yetgen Macerası 10 Şubatta Bizleri Bekliyor!          \n",
      "yeno bor YetGen macerası 10 Şubatta bozlero bekloyor!          \n",
      "True\n",
      "True\n",
      "False\n",
      "True\n",
      "-1\n",
      "33\n",
      "4\n",
      "[\"                2025 yılına YetGen'le birlikte yeniliklerle dolu bir giriş yapıldı!\"]\n",
      "2025 yılına YetGen'le birlikte yeniliklerle dolu bir giriş yapıldı!\n",
      "yeni bir YetGen macerası 10 Şubatta bizleri bekliyor!\n",
      "y                2025 yılına YetGen'le birlikte yeniliklerle dolu bir giriş yapıldı!e                2025 yılına YetGen'le birlikte yeniliklerle dolu bir giriş yapıldı!n                2025 yılına YetGen'le birlikte yeniliklerle dolu bir giriş yapıldı!i                2025 yılına YetGen'le birlikte yeniliklerle dolu bir giriş yapıldı!                 2025 yılına YetGen'le birlikte yeniliklerle dolu bir giriş yapıldı!b                2025 yılına YetGen'le birlikte yeniliklerle dolu bir giriş yapıldı!i                2025 yılına YetGen'le birlikte yeniliklerle dolu bir giriş yapıldı!r                2025 yılına YetGen'le birlikte yeniliklerle dolu bir giriş yapıldı!                 2025 yılına YetGen'le birlikte yeniliklerle dolu bir giriş yapıldı!Y                2025 yılına YetGen'le birlikte yeniliklerle dolu bir giriş yapıldı!e                2025 yılına YetGen'le birlikte yeniliklerle dolu bir giriş yapıldı!t                2025 yılına YetGen'le birlikte yeniliklerle dolu bir giriş yapıldı!G                2025 yılına YetGen'le birlikte yeniliklerle dolu bir giriş yapıldı!e                2025 yılına YetGen'le birlikte yeniliklerle dolu bir giriş yapıldı!n                2025 yılına YetGen'le birlikte yeniliklerle dolu bir giriş yapıldı!                 2025 yılına YetGen'le birlikte yeniliklerle dolu bir giriş yapıldı!m                2025 yılına YetGen'le birlikte yeniliklerle dolu bir giriş yapıldı!a                2025 yılına YetGen'le birlikte yeniliklerle dolu bir giriş yapıldı!c                2025 yılına YetGen'le birlikte yeniliklerle dolu bir giriş yapıldı!e                2025 yılına YetGen'le birlikte yeniliklerle dolu bir giriş yapıldı!r                2025 yılına YetGen'le birlikte yeniliklerle dolu bir giriş yapıldı!a                2025 yılına YetGen'le birlikte yeniliklerle dolu bir giriş yapıldı!s                2025 yılına YetGen'le birlikte yeniliklerle dolu bir giriş yapıldı!ı                2025 yılına YetGen'le birlikte yeniliklerle dolu bir giriş yapıldı!                 2025 yılına YetGen'le birlikte yeniliklerle dolu bir giriş yapıldı!1                2025 yılına YetGen'le birlikte yeniliklerle dolu bir giriş yapıldı!0                2025 yılına YetGen'le birlikte yeniliklerle dolu bir giriş yapıldı!                 2025 yılına YetGen'le birlikte yeniliklerle dolu bir giriş yapıldı!Ş                2025 yılına YetGen'le birlikte yeniliklerle dolu bir giriş yapıldı!u                2025 yılına YetGen'le birlikte yeniliklerle dolu bir giriş yapıldı!b                2025 yılına YetGen'le birlikte yeniliklerle dolu bir giriş yapıldı!a                2025 yılına YetGen'le birlikte yeniliklerle dolu bir giriş yapıldı!t                2025 yılına YetGen'le birlikte yeniliklerle dolu bir giriş yapıldı!t                2025 yılına YetGen'le birlikte yeniliklerle dolu bir giriş yapıldı!a                2025 yılına YetGen'le birlikte yeniliklerle dolu bir giriş yapıldı!                 2025 yılına YetGen'le birlikte yeniliklerle dolu bir giriş yapıldı!b                2025 yılına YetGen'le birlikte yeniliklerle dolu bir giriş yapıldı!i                2025 yılına YetGen'le birlikte yeniliklerle dolu bir giriş yapıldı!z                2025 yılına YetGen'le birlikte yeniliklerle dolu bir giriş yapıldı!l                2025 yılına YetGen'le birlikte yeniliklerle dolu bir giriş yapıldı!e                2025 yılına YetGen'le birlikte yeniliklerle dolu bir giriş yapıldı!r                2025 yılına YetGen'le birlikte yeniliklerle dolu bir giriş yapıldı!i                2025 yılına YetGen'le birlikte yeniliklerle dolu bir giriş yapıldı!                 2025 yılına YetGen'le birlikte yeniliklerle dolu bir giriş yapıldı!b                2025 yılına YetGen'le birlikte yeniliklerle dolu bir giriş yapıldı!e                2025 yılına YetGen'le birlikte yeniliklerle dolu bir giriş yapıldı!k                2025 yılına YetGen'le birlikte yeniliklerle dolu bir giriş yapıldı!l                2025 yılına YetGen'le birlikte yeniliklerle dolu bir giriş yapıldı!i                2025 yılına YetGen'le birlikte yeniliklerle dolu bir giriş yapıldı!y                2025 yılına YetGen'le birlikte yeniliklerle dolu bir giriş yapıldı!o                2025 yılına YetGen'le birlikte yeniliklerle dolu bir giriş yapıldı!r                2025 yılına YetGen'le birlikte yeniliklerle dolu bir giriş yapıldı!!                2025 yılına YetGen'le birlikte yeniliklerle dolu bir giriş yapıldı!                 2025 yılına YetGen'le birlikte yeniliklerle dolu bir giriş yapıldı!                 2025 yılına YetGen'le birlikte yeniliklerle dolu bir giriş yapıldı!                 2025 yılına YetGen'le birlikte yeniliklerle dolu bir giriş yapıldı!                 2025 yılına YetGen'le birlikte yeniliklerle dolu bir giriş yapıldı!                 2025 yılına YetGen'le birlikte yeniliklerle dolu bir giriş yapıldı!                 2025 yılına YetGen'le birlikte yeniliklerle dolu bir giriş yapıldı!                 2025 yılına YetGen'le birlikte yeniliklerle dolu bir giriş yapıldı!                 2025 yılına YetGen'le birlikte yeniliklerle dolu bir giriş yapıldı!                 2025 yılına YetGen'le birlikte yeniliklerle dolu bir giriş yapıldı! \n",
      "False\n",
      "True\n",
      "True\n",
      "True\n"
     ]
    }
   ],
   "source": [
    "# 4.Problemin Çözümünü Buraya Yazınız\n",
    "string_example_1= \"yeni bir YetGen macerası 10 Şubatta bizleri bekliyor!          \"\n",
    "string_example_2=\"                2025 yılına YetGen'le birlikte yeniliklerle dolu bir giriş yapıldı!\"\n",
    "\n",
    "print(string_example_1.capitalize())\n",
    "print(string_example_2.lower())\n",
    "print(string_example_1.upper())\n",
    "print(string_example_2.swapcase())\n",
    "print(string_example_1.title())\n",
    "print(string_example_1.replace(\"i\", \"o\"))\n",
    "\n",
    "print(string_example_2.endswith(\"!\"))\n",
    "print(string_example_1.endswith(\"\"))\n",
    "print(string_example_1.startswith(\"Y\"))\n",
    "print(string_example_2.startswith(\"\"))\n",
    "print(string_example_2.find(\"ta\"))\n",
    "print(string_example_1.index(\"ta\"))\n",
    "print(string_example_1.count(\"a\"))\n",
    "\n",
    "print(string_example_2.split(\",\")) #!\n",
    "print(string_example_2.strip())\n",
    "print(string_example_1.strip())\n",
    "print(string_example_2.join(string_example_1)) #!\n",
    "print(string_example_1.islower())\n",
    "print(\"yetgen\".islower())\n",
    "print(\"Yetgen\".isalpha())\n",
    "print(\"365\".isdigit())\n",
    "\n"
   ]
  }
 ],
 "metadata": {
  "kernelspec": {
   "display_name": "Python 3",
   "language": "python",
   "name": "python3"
  },
  "language_info": {
   "codemirror_mode": {
    "name": "ipython",
    "version": 3
   },
   "file_extension": ".py",
   "mimetype": "text/x-python",
   "name": "python",
   "nbconvert_exporter": "python",
   "pygments_lexer": "ipython3",
   "version": "3.13.2"
  },
  "orig_nbformat": 4
 },
 "nbformat": 4,
 "nbformat_minor": 2
}
