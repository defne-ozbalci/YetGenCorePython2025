{
 "cells": [
  {
   "cell_type": "markdown",
   "metadata": {
    "id": "-My6RWLrhXIq"
   },
   "source": [
    "# Problem 1\n",
    "Sözlükleri kullanarak bir telefon rehberi yazın. Bu rehberde kullanıcıya kimin telefonunu görüntülemek istediğini sorun ve kullanıcının girdiği isme göre o kişinin telefon numarasını yazdırın. Proje sonunda elde edeceğiniz çıktı  şuna benzer olmalı:\n",
    "\n",
    "\n",
    "Lütfen numarasını öğrenmek istediğiniz kişinin adını girin: Ahmet\n",
    "\n",
    "Ahmet isimli kişinin numarası şu şekildedir: 0532 678 13 19"
   ]
  },
  {
   "cell_type": "code",
   "execution_count": 11,
   "metadata": {
    "id": "LHIQEhchhXIu"
   },
   "outputs": [
    {
     "name": "stdout",
     "output_type": "stream",
     "text": [
      "Lütfen numarasını öğrenmek istediğiniz kişinin adını girin: Defne\n",
      "Defne isimli kişinin numarası şu şekildedir: 0548 961 51 54\n"
     ]
    }
   ],
   "source": [
    "# 1.Problemin Çözümünü Buraya Yazınız\n",
    "\n",
    "kisi=input(\"Lütfen numarasını öğrenmek istediğiniz kişinin adını girin:\")\n",
    "print(f\"Lütfen numarasını öğrenmek istediğiniz kişinin adını girin: {kisi}\")\n",
    "rehber = {\"Ahmet\": \"0532 678 13 19\", \"Defne\": \"0548 961 51 54\"}\n",
    "if kisi in rehber:\n",
    "    print(f\"{kisi} isimli kişinin numarası şu şekildedir: {rehber[kisi]}\")\n",
    "else:\n",
    "    print(\"Bu kişi rehberde bulunmamaktadır\")"
   ]
  },
  {
   "cell_type": "markdown",
   "metadata": {
    "id": "rlgfjEi7hXIv"
   },
   "source": [
    "# Problem 2\n",
    "Sözlükleri kullanarak bir şirket çalışanları indeksi oluşturun. Bu isim indeksinde kişilerin isimleri key, kişilerin  memleket, yaş ve görev bilgileri value olmalıdır. Burada kullanacağımız value değerleri liste olmalıdır.\n",
    "\n",
    "\n",
    "Daha sonra bir isim sorgulama ekranı gibi kullanıcıya kimin bilgilerini görüntülemek istediğini \n",
    "sorun ve sorgulanan kişinin ekranda gösterilmesini sağlayın. Proje sonunda elde edeceğiniz çıktı şu şekilde olmalı:\n",
    "\n",
    "\n",
    "Lütfen bilgilerini görüntülemek istediğiniz çalışanın ismini girin: Mehmet Yağız\n",
    "\n",
    "Mehmet Yağız= Memleket: Adana Yaş: 40 Görev: Direktör"
   ]
  },
  {
   "cell_type": "code",
   "execution_count": 25,
   "metadata": {
    "id": "O09zrrs0hXIv"
   },
   "outputs": [
    {
     "name": "stdout",
     "output_type": "stream",
     "text": [
      "Lütfen bilgilerini görüntülemek istediğiniz çalışanın ismini giriniz: Defne Özbalcı\n",
      "Defne Özbalcı = Memleket: İzmir, Yaş: 19, Meslek: Kimya Mühendisi\n"
     ]
    }
   ],
   "source": [
    "# 2.Problemin Çözümünü Buraya Yazınız\n",
    "\n",
    "calisan_kisiler={\"Mehmet Yağız\": [\"Adana\", 40, \"Direktör\"],\n",
    "                 \"Defne Özbalcı\": [\"İzmir\", 19, \"Kimya Mühendisi\"],\n",
    "                 \"Duru Derin\": [\"İstanbul\", 32, \"Gıda Mühendisi\"],\n",
    "                 \"Zeynep Ekin\": [\"Manisa\", 29, \"Bilgisayar Mühendisi\"]}\n",
    "isim=input(\"Lütfen bilgilerini görüntülemek istediğiniz kişinin ismini giriniz: \")\n",
    "print(f\"Lütfen bilgilerini görüntülemek istediğiniz çalışanın ismini giriniz: {isim}\")\n",
    "if isim in calisan_kisiler:\n",
    "    memleket, yas, meslek = calisan_kisiler[isim]\n",
    "    print(f\"{isim} = Memleket: {memleket}, Yaş: {yas}, Meslek: {meslek}\")\n",
    "else:\n",
    "    print(\"{isim} kişisinin kaydı bulunmamaktadır\")"
   ]
  },
  {
   "cell_type": "markdown",
   "metadata": {
    "id": "G67ztXG-hXIw"
   },
   "source": [
    "# Problem 3\n",
    "\n",
    "3 öğrenciden oluşan bir öğrenci not sözlüğü oluşturun. Bu sözlükte öğrencilerin notları value olarak bir listede toplansın.\n",
    "\n",
    "Kullanıcıya hangi öğrencinin notlarını görmek istediğini sorun. Öğrencinin notu görüntülendiğinde program sonunda şöyle bir çıktı elde etmelisiniz:\n",
    "\n",
    "```\n",
    "Lütfen notlarını görmek istediğiniz öğrencinin adını girin: Mehmet\n",
    "\n",
    "Mehmet isimli öğrencinin      1.Sınav Notu:72\n",
    "                              2.Sınav Notu:66\n",
    "                              3.Sınav Notu:48\n",
    "Not Ortalaması: 62.0\n"
   ]
  },
  {
   "cell_type": "code",
   "execution_count": 36,
   "metadata": {
    "id": "TXQ_fuCHhXIw"
   },
   "outputs": [
    {
     "name": "stdout",
     "output_type": "stream",
     "text": [
      "Lütfen notlarını görmek istediğiniz öğrencinin adını giriniz: İlayda\n",
      "İlayda isimli öğrencinin     1. Sınav Notu:96\n",
      "                             2. Sınav Notu:85\n",
      "                             3. Sınav Notu:88\n",
      "Not Ortalaması: 89.66666666666667\n"
     ]
    }
   ],
   "source": [
    "# 3.Problemin Çözümünü Buraya Yazınız\n",
    "ogrenci= input(f\"Lütfen notlarını görmek istediğin öğrencinin adını girin: \")\n",
    "notlar={\"Mehmet\": [72,66,48], \"Defne\": [80,72,67], \"İlayda\": [96,85,88]}\n",
    "print(f\"Lütfen notlarını görmek istediğiniz öğrencinin adını giriniz: {ogrenci}\")\n",
    "no1, no2, no3 = notlar[ogrenci]\n",
    "Ortalama = (no1+no2+no3)/3\n",
    "print(f\"{ogrenci} isimli öğrencinin     1. Sınav Notu:{no1}\")\n",
    "print(f\"                             2. Sınav Notu:{no2}\")\n",
    "print(f\"                             3. Sınav Notu:{no3}\")\n",
    "print(f\"Not Ortalaması: {Ortalama}\")"
   ]
  },
  {
   "cell_type": "markdown",
   "metadata": {
    "id": "oel6A5WFhXIw"
   },
   "source": [
    "# Problem 4"
   ]
  },
  {
   "cell_type": "code",
   "execution_count": 96,
   "metadata": {
    "id": "jVRdspCrhXIx"
   },
   "outputs": [
    {
     "name": "stdout",
     "output_type": "stream",
     "text": [
      "4\n",
      "Bmv\n",
      "Mazda\n",
      "['Bmv', 'Mercedes', 'Opel', 'Toyota']\n",
      "Opel\n",
      "['Bmv', 'Mercedes', 'Opel']\n",
      "['Bmv', 'Mercedes', 'Toyota', 'Renault']\n",
      "['Bmv', 'Mercedes', 'Toyota', 'Renault', 'Audi', 'Nissan']\n",
      "['Bmv', 'Mercedes', 'Toyota', 'Renault', 'Audi']\n",
      "['Audi', 'Renault', 'Toyota', 'Mercedes', 'Bmv']\n",
      "Ad:Yiğit Bilgi, Doğum Tarihi:2010, Aldığı Puanlar:(70, 60, 70)\n",
      "Ad:Sena Turan, Doğum Tarihi:1999, Aldığı Puanlar:(80, 80, 70)\n",
      "Ad:Ahmet Turan, Doğum Tarihi:1998, Aldığı Puanlar:(80, 70, 90)\n",
      "['Ali', 'Yağmur', 'Hakan', 'Deniz', 'Cenk']\n",
      "['Sena', 'Ali', 'Yağmur', 'Hakan', 'Deniz', 'Cenk']\n",
      "['Sena', 'Ali', 'Yağmur', 'Hakan', 'Cenk']\n",
      "Evet\n",
      "['Cenk', 'Hakan', 'Yağmur', 'Ali', 'Sena']\n",
      "['Ali', 'Cenk', 'Hakan', 'Sena', 'Yağmur']\n",
      "[1987, 1998, 1998, 2000]\n",
      "['Chevrolet', 'Dacia']\n",
      "Dizideki 1998 sayısı: 2\n",
      "[]\n",
      "Seçilen markalar: ['loreal', 'pastel', 'flormar']\n"
     ]
    }
   ],
   "source": [
    "# 1-  \"Bmw, Mercedes, Opel, Mazda\" elemanlarına sahip bir liste oluşturunuz.\n",
    "marka=[\"Bmv\", \"Mercedes\", \"Opel\", \"Mazda\"]\n",
    "# 2-  Liste Kaç elemanlıdır ?\n",
    "print(len(marka))\n",
    "# 3-  Listenin ilk ve son elemanı nedir ?\n",
    "print(marka[0])\n",
    "print(marka[3])\n",
    "# 4-  Mazda değerini Toyota ile değiştirin.\n",
    "marka[3]=\"Toyota\"\n",
    "print(marka)\n",
    "# 5-  Listenin -2 indeksindeki değer nedir ?\n",
    "print(marka[-2])\n",
    "# 6-  Listenin ilk 3 elemanını alın.\n",
    "print(marka[0:3])\n",
    "# 7-  Listenin son 2 elemanı yerine \"Toyota\" ve \"Renault\" değerlerini ekleyin.\n",
    "marka[2]=\"Toyota\"\n",
    "marka[3]=\"Renault\"\n",
    "print(marka)\n",
    "# 8-  Listenin üzerine \"Audi\" ve \"Nissan\" değerlerini ekleyin.\n",
    "marka.append(\"Audi\")\n",
    "marka.append(\"Nissan\")\n",
    "print(marka)\n",
    "# 9- Listenin son elemanını silin.\n",
    "marka.pop()\n",
    "print(marka)\n",
    "# 10- Liste elemanlarını tersten yazdırınız.\n",
    "marka.reverse()\n",
    "print(marka)\n",
    "# 11- Aşağıdaki verileri bir liste içinde saklayınız. \n",
    "\n",
    "      # studentA: Yiğit Bilgi 2010, (70,60,70)\n",
    "      # studentB: Sena Turan  1999, (80,80,70)\n",
    "      # studentC: Ahmet Turan 1998, (80,70,90) \n",
    "students=[(\"Yiğit Bilgi\", 2010, (70,60,70)),\n",
    "          (\"Sena Turan\", 1999, (80,80,70)),\n",
    "          (\"Ahmet Turan\", 1998, (80,70,90))]\n",
    "\n",
    "# 12- Liste elemanlarını ekrana yazdırınız.\n",
    "\n",
    "for student in students:\n",
    "    ad, tarih, puan= student\n",
    "    print(f\"Ad:{ad}, Doğum Tarihi:{tarih}, Aldığı Puanlar:{puan}\")\n",
    "\n",
    "\n",
    "  \n",
    "names = ['Ali','Yağmur','Hakan','Deniz']\n",
    "years = [1998, 2000, 1998, 1987]\n",
    "\n",
    "# 13-  \"Cenk\" ismini listenin sonuna ekleyiniz.\n",
    "names.append(\"Cenk\")\n",
    "print(names)\n",
    "\n",
    "# 14-  \"Sena\" değerini listenin başına ekleyiniz.\n",
    "names.insert(0,\"Sena\")\n",
    "print(names)\n",
    "# 15-  \"Deniz\" ismini listeden siliniz.\n",
    "names.remove(\"Deniz\")\n",
    "print(names)\n",
    "# 16-  \"Ali\" listenin bir elemanı mıdır ?\n",
    "if \"Ali\" in names:\n",
    "    print(\"Evet\")\n",
    "else:\n",
    "    print(\"Hayır\")\n",
    "# 17-  Liste elemanlarını ters çevirin.\n",
    "names.reverse()\n",
    "print(names)\n",
    "# 18-  Liste elemanlarını alfabetik olarak sıralayınız.\n",
    "names.sort()\n",
    "print(names)\n",
    "# 19-  years listesini rakamsal büyüklüğe göre sıralayınız.\n",
    "years.sort()\n",
    "print(years)\n",
    "# 20-  str = \"Chevrolet,Dacia\" karakter dizisini listeye çeviriniz.\n",
    "str =\"Chevrolet,Dacia\"\n",
    "dizi=str.split(\",\")\n",
    "print(dizi)\n",
    "# 21- years dizisinde kaç tane 1998 değeri vardır ?\n",
    "tekrar_1998=0\n",
    "for yil in years:\n",
    "   if yil==1998:\n",
    "        tekrar_1998+=1\n",
    "print(f\"Dizideki 1998 sayısı: {tekrar_1998}\")\n",
    "# 22- years dizisinin tüm elemanlarını siliniz.\n",
    "years.clear()\n",
    "print(years)\n",
    "# 23- Kullanıcıdan alacağınız 3 tane marka bilgisini bir listede saklayınız.\n",
    "markalar=[input(\"Marka bilgisini giriniz: \") for i in range(3)]\n",
    "print(\"Seçilen markalar:\", markalar)\n",
    "\n"
   ]
  }
 ],
 "metadata": {
  "colab": {
   "provenance": []
  },
  "kernelspec": {
   "display_name": "Python 3",
   "language": "python",
   "name": "python3"
  },
  "language_info": {
   "codemirror_mode": {
    "name": "ipython",
    "version": 3
   },
   "file_extension": ".py",
   "mimetype": "text/x-python",
   "name": "python",
   "nbconvert_exporter": "python",
   "pygments_lexer": "ipython3",
   "version": "3.13.2"
  },
  "orig_nbformat": 4
 },
 "nbformat": 4,
 "nbformat_minor": 0
}
