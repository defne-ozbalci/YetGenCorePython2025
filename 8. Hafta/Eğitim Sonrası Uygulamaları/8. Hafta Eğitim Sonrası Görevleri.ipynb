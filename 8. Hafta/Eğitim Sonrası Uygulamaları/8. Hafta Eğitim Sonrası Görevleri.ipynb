{
 "cells": [
  {
   "attachments": {},
   "cell_type": "markdown",
   "metadata": {},
   "source": [
    "# Problem 1\n",
    "\n",
    "Şimdi beraber kullanıcılardan aldığımız verileri işleyerek, onlara hem çıktı verecek, hem de aldığımız ve hesapladığımız verileri ileride kullanabilmek adına kaydedeceğiz.\n",
    "\n",
    "\n",
    " **Bu bir veri giriş platformu olacak**\n",
    "\n",
    "\n",
    " * kullanıcıya kaç giriş yapacağını soracağız\n",
    "* kullanıcıdan isim-soyisim, yaş, boy, kilo bilgilerini alarak VKİ hesaplayacağız\n",
    "* ardından bunları sınıflara göre kaydedeceğiz bir dosyaya kaydedeceğiz\n",
    "\n",
    "\n",
    "Sınıflar ise şu şekilde: \n",
    "* 18, 5 kg/m.'nin altında olanlar: Zayıf\n",
    "* 18.5 – 24, 9 kg/m. arasında olanlar: Normal kilolu\n",
    "* 25 – 29, 9 kg/m. arasında olanlar: Fazla kilolu\n",
    "* 30 – 39, 9 kg/m. arasında olanlar: Obez\n",
    "* 40 kg/m.'nin üzerinde olanlar: İleri derecede obez (morbid obez), olarak görülür."
   ]
  },
  {
   "cell_type": "code",
   "execution_count": 10,
   "metadata": {},
   "outputs": [],
   "source": [
    "# 1.Problemin Çözümünü Buraya Yazınız\n",
    "\n",
    "class Kullanicilar():\n",
    "    def __init__(self,ad_soyad,yas,boy,kilo):\n",
    "        self.ad_soyad=ad_soyad\n",
    "        self.yas=yas\n",
    "        self.boy=boy\n",
    "        self.kilo=kilo\n",
    "        self.vki=self.vki_hesaplama()\n",
    "\n",
    "    def vki_hesaplama(self):\n",
    "        return self.kilo/(self.boy**2)\n",
    "\n",
    "    def vki_siniflandirma(self):\n",
    "        vki=self.vki\n",
    "        avg_vki=round(vki,2)\n",
    "        if vki<18.5:\n",
    "            return f\"Kullanıcı: {self.ad_soyad} Yaş: {self.yas} Boy: {self.boy} Kilo: {self.kilo} VKI: {avg_vki}\\n Sonuç: Zayıf \\n\"\n",
    "        elif vki<25:\n",
    "            return f\"Kullanıcı: {self.ad_soyad} Yaş: {self.yas} Boy: {self.boy} Kilo: {self.kilo} VKI: {avg_vki}\\n Sonuç: Normal Kilolu\\n\"\n",
    "        elif vki<30:\n",
    "            return f\"Kullanıcı: {self.ad_soyad} Yaş: {self.yas} Boy: {self.boy} Kilo: {self.kilo} VKI: {avg_vki}\\n Sonuç: Fazla Kilolu\\n\"\n",
    "        elif vki<40:\n",
    "            return f\"Kullanıcı: {self.ad_soyad} Yaş: {self.yas} Boy: {self.boy} Kilo: {self.kilo} VKI: {avg_vki}\\n Sonuç: Obez\\n\"\n",
    "        else:\n",
    "            return f\"Kullanıcı: {self.ad_soyad} Yaş: {self.yas} Boy: {self.boy} Kilo: {self.kilo} VKI: {avg_vki}\\n Sonuç: İleri Derecede Obez\\n\"\n",
    "        \n",
    "class Veri_girisi():\n",
    "    def __init__(self):\n",
    "        self.kullanicilar=[]\n",
    "    def kisi_sayi(self):\n",
    "        kisiler=int(input(\"Kaç kişi için giriş yapılacak giriniz: \"))\n",
    "\n",
    "        for i in range(kisiler):\n",
    "            ad_soyad=input(\"Adınızı ve soyadınızı giriniz: \")\n",
    "            yas=int(input(\"Yaşınızı giriniz: \"))\n",
    "            boy=float(input(\"Boyunuzu giriniz: \"))\n",
    "            kilo=float(input(\"Kilonuzu giriniz: \"))\n",
    "            kullanici=Kullanicilar(ad_soyad,yas,boy,kilo)\n",
    "            self.kullanicilar.append(kullanici)\n",
    "\n",
    "    def veri_depolama(self):\n",
    "        with open(\"kullanici_bilgi.txt\", \"w\", encoding=\"utf-8\") as file:\n",
    "            for kullanici in self.kullanicilar:\n",
    "                file.write(kullanici.vki_siniflandirma())\n",
    "\n",
    "veri=Veri_girisi()\n",
    "veri.kisi_sayi()\n",
    "veri.veri_depolama()"
   ]
  },
  {
   "cell_type": "markdown",
   "metadata": {},
   "source": [
    "# Problem 2\n",
    "**YetBar - Smoothie Bank**\n",
    "---\n",
    "YetBar spor salonunun girişinde bulunan, insansız bir sağlıklı içecek otomatıdır. Kullanıcı çeşitli girdiler smoothie içeceğine koyacağı ürünleri belirleyebilir, fiyat hesaplaması yaptırabilir ya da sadece menüyü görüntüleyebilir.\n",
    "\n",
    "**Projenin Amacı:**\n",
    "\n",
    "*   Birbirini etkileyen ve bir kod içerisinde birden fazla defa başvurulacak fonksiyonların oluşturulup, \"fonksiyonel\" proglamlamak.\n",
    "*   Büyük programları yazarken, yazılımcı olarak yapabileceğimiz hatalardan kaçınmak için kontrol yöntemleri geliştirmek.\n",
    "*   Kullanıcı inputlarını ve yaptığımız hesapları, raporlamak/loglamak amacıyla kaydetmek.\n",
    "\n",
    "**Programdan Beklenen Çıktılar**\n",
    "* Program kullanıcıya temelde 2 farklı işlem yapma imkanı sağlar.\n",
    "> 1. Menüyü görüntüleme\n",
    "> 3. Satın alma\n",
    "* Satın alınan her içecek tarih, fiyat bilgisi ile kaydedilmeli ve her zaman ulaşılabilir olmalıdır.\n",
    "\n",
    "\n"
   ]
  },
  {
   "cell_type": "code",
   "execution_count": null,
   "metadata": {},
   "outputs": [],
   "source": [
    "# 2.Problemin Çözümünü Buraya Yazınız"
   ]
  }
 ],
 "metadata": {
  "kernelspec": {
   "display_name": "Python 3",
   "language": "python",
   "name": "python3"
  },
  "language_info": {
   "codemirror_mode": {
    "name": "ipython",
    "version": 3
   },
   "file_extension": ".py",
   "mimetype": "text/x-python",
   "name": "python",
   "nbconvert_exporter": "python",
   "pygments_lexer": "ipython3",
   "version": "3.13.2"
  },
  "orig_nbformat": 4,
  "vscode": {
   "interpreter": {
    "hash": "5026d2d6e7aaaaba093def813beadff083d8733e4a511af01735cbabd156995d"
   }
  }
 },
 "nbformat": 4,
 "nbformat_minor": 2
}
