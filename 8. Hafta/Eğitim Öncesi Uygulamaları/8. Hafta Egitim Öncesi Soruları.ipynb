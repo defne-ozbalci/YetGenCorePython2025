{
 "cells": [
  {
   "cell_type": "markdown",
   "metadata": {
    "id": "Pzh44PAE5H61"
   },
   "source": [
    "# Problem 1 \n",
    "Kullanıcıdan aldığı ürün bilgisini (ad, fiyat) urunler.txt dosyasına kayıt eden fonksiyonu yazınız."
   ]
  },
  {
   "cell_type": "code",
   "execution_count": 14,
   "metadata": {
    "id": "uKw3Wap95H64"
   },
   "outputs": [
    {
     "name": "stdout",
     "output_type": "stream",
     "text": [
      "Kalem: 15 TL\n"
     ]
    }
   ],
   "source": [
    "# 1.Problemin Çözümünü Buraya Yazınız\n",
    "file = open(\"urunler.txt\",\"r+\", encoding=\"utf-8\")\n",
    "ad = input(\"Ürün adı giriniz: \")\n",
    "fiyat = input(\"Ürünün fiyatını giriniz: \")\n",
    "file.write(f\"{ad}: \")\n",
    "file.write(f\"{fiyat} TL\")\n",
    "with open(\"urunler.txt\",\"r+\", encoding=\"utf-8\") as file:\n",
    "    print(file.read())\n",
    "file.close()"
   ]
  },
  {
   "cell_type": "markdown",
   "metadata": {
    "id": "Lw7xy19D5H66"
   },
   "source": [
    "# Problem 2\n",
    "1.problemde oluşturulan text dosyası içerisinde kullanıcıdan alacağımız eski kelime isimli değişkene atadığımız \n",
    "ve değiştirilmesini istediğimiz kelimemizi yerini alıcak olan yeni kelime isimli değişkene atayın. Belirlenen kelimeleri text dosyasında değiştiren fonksiyonu yazınız."
   ]
  },
  {
   "cell_type": "code",
   "execution_count": 15,
   "metadata": {
    "id": "jDlym3ko5H66"
   },
   "outputs": [],
   "source": [
    "# 2.Problemin Çözümünü Buraya Yazınız\n",
    "\n",
    "eski_kelime=input(\"Değiştirilecek ürünü giriniz: \")\n",
    "yeni_kelime=input(\"Yeni ürünü giriniz: \")\n",
    "\n",
    "with open(\"urunler.txt\",\"r\", encoding=\"utf-8\") as file:\n",
    "    metin=file.read()\n",
    "    yeni_metin=metin.replace(eski_kelime,yeni_kelime)\n",
    "with open(\"urunler.txt\",\"w\", encoding=\"utf-8\") as file:\n",
    "    file.write(yeni_metin)\n",
    "    \n"
   ]
  },
  {
   "cell_type": "markdown",
   "metadata": {
    "id": "3aSYk4FF5H67"
   },
   "source": [
    "# Problem 3\n",
    "Vehicle sınıfının tüm değişkenlerini ve yöntemlerini devralacak bir alt sınıf olarak Bus sınıfı oluşturunuz.\n",
    "\n",
    "\n",
    "\n",
    "```\n",
    "Output\n",
    "> Name: School Volvo Speed: 180 Mileage: 12\n",
    "```\n"
   ]
  },
  {
   "cell_type": "code",
   "execution_count": 4,
   "metadata": {
    "id": "PwCI6Xkb5H68"
   },
   "outputs": [
    {
     "name": "stdout",
     "output_type": "stream",
     "text": [
      "Name: School Volvo\n",
      "Speed: 180\n",
      "Mileage: 12\n"
     ]
    }
   ],
   "source": [
    "# 3.Problemin Çözümünü Buraya Yazınız\n",
    "class Vehicle():\n",
    "    def __init__(self,name,speed,mileage):\n",
    "        self.name=name\n",
    "        self.speed=speed\n",
    "        self.mileage=mileage\n",
    "class Bus(Vehicle):\n",
    "    pass\n",
    "arac=Bus(\"School Volvo\",180,12)\n",
    "print(f\"Name: {arac.name}\")\n",
    "print(f\"Speed: {arac.speed}\")\n",
    "print(f\"Mileage: {arac.mileage}\")"
   ]
  }
 ],
 "metadata": {
  "colab": {
   "provenance": []
  },
  "kernelspec": {
   "display_name": "Python 3",
   "language": "python",
   "name": "python3"
  },
  "language_info": {
   "codemirror_mode": {
    "name": "ipython",
    "version": 3
   },
   "file_extension": ".py",
   "mimetype": "text/x-python",
   "name": "python",
   "nbconvert_exporter": "python",
   "pygments_lexer": "ipython3",
   "version": "3.13.2"
  },
  "orig_nbformat": 4,
  "vscode": {
   "interpreter": {
    "hash": "5026d2d6e7aaaaba093def813beadff083d8733e4a511af01735cbabd156995d"
   }
  }
 },
 "nbformat": 4,
 "nbformat_minor": 0
}
