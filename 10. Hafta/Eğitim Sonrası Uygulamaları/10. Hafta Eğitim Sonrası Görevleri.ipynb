{
 "cells": [
  {
   "attachments": {},
   "cell_type": "markdown",
   "metadata": {},
   "source": [
    "# Problem 1 "
   ]
  },
  {
   "cell_type": "code",
   "execution_count": 11,
   "metadata": {},
   "outputs": [
    {
     "name": "stdout",
     "output_type": "stream",
     "text": [
      "[ 1 89 47 16 54]\n",
      "[ 1 16 47 54 89]\n"
     ]
    }
   ],
   "source": [
    "# 1 - numpy kütüphanesini import edin\n",
    "import numpy as np\n",
    "\n",
    "# 2 - 5 elemanlı bir numpy array oluşturun\n",
    "array1=np.array([1,89,47,16,54])\n",
    "print(array1)\n",
    "\n",
    "# 3 - Oluşturduğunuz arrayi küçükten büyüğe sıralayın.\n",
    "array2=np.sort(array1)\n",
    "print(array2)\n",
    "\n",
    "\n",
    "\n",
    "\n",
    "\n",
    "\n",
    "\n",
    "\n",
    "\n"
   ]
  },
  {
   "attachments": {},
   "cell_type": "markdown",
   "metadata": {},
   "source": [
    "# Problem 2"
   ]
  },
  {
   "cell_type": "code",
   "execution_count": 58,
   "metadata": {},
   "outputs": [
    {
     "name": "stdout",
     "output_type": "stream",
     "text": [
      "[10 15 30 45 60]\n",
      "[ 5  6  7  8  9 10 11 12 13 14]\n",
      "[50 55 60 65 70 75 80 85 90 95]\n",
      "[0. 0. 0. 0. 0. 0. 0. 0. 0. 0.]\n",
      "[1. 1. 1. 1. 1. 1. 1. 1. 1. 1.]\n",
      "[  0.  20.  40.  60.  80. 100.]\n",
      "[19 16 17 10 21]\n",
      "[-1.   -0.75 -0.5  -0.25  0.    0.25  0.5   0.75  1.  ]\n",
      "[-0.48031609  0.80645522 -0.58164426  0.2050121   0.10772396  0.04927209\n",
      " -0.38245828  0.02335138 -0.77853816 -0.16252746]\n",
      "Random Matris (3x5):\n",
      "[[36 13 28 48 36]\n",
      " [11 15 22 32 25]\n",
      " [43 34 23 34 29]]\n",
      "Sütun toplam: [161 105 163]\n",
      "Satır toplam:[ 90  62  73 114  90]\n",
      "Maximum değer:48\n",
      "Minimum değer:11\n",
      "Matris ortalaması: 28.6\n",
      "Maximum değerin indexi: (np.int64(0), np.int64(3))\n",
      "[10 11 12 13 14 15 16 17 18 19]\n",
      "[10 11 12]\n",
      "[19 18 17 16 15 14 13 12 11 10]\n",
      "[36 13 28 48 36]\n",
      "22\n",
      "[36 11 43]\n",
      "[[1296  169  784 2304 1296]\n",
      " [ 121  225  484 1024  625]\n",
      " [1849 1156  529 1156  841]]\n",
      "Aralıktaki pozitif çift sayılar: [36 28 48 36 22 32 34 34]\n"
     ]
    }
   ],
   "source": [
    "# 1- (10,15,30,45,60) değerlerine sahip numpy dizisi oluşturunuz.\n",
    "x=np.array([10,15,30,45,60])\n",
    "print(x)\n",
    "\n",
    "# 2- (5-15) arasındaki sayılarla numpy dizisi oluşturunuz.\n",
    "y=np.arange(5,15)\n",
    "print(y)\n",
    "\n",
    "# 3- (50-100) arasında 5'er 5'er artarak numpy dizisi oluşturunuz.\n",
    "z=np.arange(50,100,5)\n",
    "print(z)\n",
    "\n",
    "# 4- 10 elemanlı sıfırlardan oluşan bir dizi oluşturunuz.\n",
    "zero=np.zeros(10)\n",
    "print(zero)\n",
    "\n",
    "# 5- 10 elemanlı birlerden oluşan bir dizi oluşturunuz.\n",
    "one=np.ones(10)\n",
    "print(one)\n",
    "\n",
    "# 6- (0-100) arasında eşit aralıklı 5 sayı üretin.\n",
    "l=np.linspace(0,100,6)\n",
    "print(l)\n",
    "\n",
    "# 7- (10-30) arasında rastgele 5 tane tamsayı üretin.\n",
    "r=np.random.randint(10,30,5)\n",
    "print(r)\n",
    "\n",
    "# 8- [-1 ile 1] arasında 10 adet sayı üretin.\n",
    "t=np.linspace(-1,1,9)\n",
    "print(t)\n",
    "u=np.random.uniform(-1,1,10)\n",
    "print(u)\n",
    "\n",
    "# 9- (3x5) boyutlarında (10-50) arasında rastgele bir matris oluşturunuz.\n",
    "matris1=np.random.randint(10,50,(3,5))\n",
    "matris1_re=matris1.reshape(3,5)\n",
    "print(f\"Random Matris (3x5):\\n{matris1_re}\")\n",
    "\n",
    "# 10- Üretilen matrisin satır ve sütun sayıları toplamlarını hesaplayınız ?\n",
    "sutun = matris1_re.sum(axis = 1)\n",
    "print(f\"Sütun toplam: {sutun}\")\n",
    "satir = matris1_re.sum(axis = 0)\n",
    "print(f\"Satır toplam:{satir}\")\n",
    "\n",
    "# 11- Üretilen matrisin en büyük, en küçük ve ortalaması nedir ?\n",
    "max_deger = matris1_re.max()\n",
    "min_deger = matris1_re.min()\n",
    "ort_deger = matris1_re.mean()\n",
    "print(f\"Maximum değer:{max_deger}\")\n",
    "print(f\"Minimum değer:{min_deger}\")\n",
    "print(f\"Matris ortalaması: {ort_deger}\")\n",
    "\n",
    "# 12- Üretilen matrisin en büyük değerinin indeksi kaçtır ?\n",
    "max_index=np.unravel_index(matris1_re.argmax(), matris1_re.shape)\n",
    "print(f\"Maximum değerin indexi: {max_index}\")\n",
    "\n",
    "# 13- (10-20) arasındaki sayıları içeren dizinin ilk 3 elemanını seçiniz.\n",
    "a=np.arange(10,20)\n",
    "print(a)\n",
    "print(a[:3])\n",
    "\n",
    "# 14- Üretilen dizinin elemanlarını tersten yazdırın.\n",
    "print(a[::-1])\n",
    "\n",
    "# 15- Üretilen matrisin ilk satırını seçiniz.\n",
    "print(matris1_re[0,:])\n",
    "\n",
    "# 16- Üretilen matrisin 2.satır 3.sütundaki elemanı hangisidir ?\n",
    "print(matris1_re[1,2])\n",
    "\n",
    "# 17- Üretilen matrisin tüm satırlardaki ilk elemanı seçiniz.\n",
    "print(matris1_re[:,0])\n",
    "\n",
    "# 18- Üretilen matrisin her bir elemanının karesini alınız.\n",
    "print(matris1_re**2)\n",
    "\n",
    "# 19- Üretilen matris elemanlarının hangisi pozitif çift sayıdır ? Aralığı (-50,+50) arasında yapınız.\n",
    "matris_aralık=matris1_re[(matris1_re<50) & (matris1_re>-50)]\n",
    "pozitif_cift=matris_aralık[(matris_aralık>0) & (matris_aralık%2==0)]\n",
    "print(f\"Aralıktaki pozitif çift sayılar: {pozitif_cift}\")"
   ]
  }
 ],
 "metadata": {
  "kernelspec": {
   "display_name": "Python 3",
   "language": "python",
   "name": "python3"
  },
  "language_info": {
   "codemirror_mode": {
    "name": "ipython",
    "version": 3
   },
   "file_extension": ".py",
   "mimetype": "text/x-python",
   "name": "python",
   "nbconvert_exporter": "python",
   "pygments_lexer": "ipython3",
   "version": "3.13.2"
  },
  "orig_nbformat": 4,
  "vscode": {
   "interpreter": {
    "hash": "5026d2d6e7aaaaba093def813beadff083d8733e4a511af01735cbabd156995d"
   }
  }
 },
 "nbformat": 4,
 "nbformat_minor": 2
}
